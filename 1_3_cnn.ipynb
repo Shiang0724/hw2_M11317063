{
 "cells": [
  {
   "cell_type": "markdown",
   "id": "e5bf383e",
   "metadata": {},
   "source": [
    "使用資料增強技術搭配正則化(regularization)技術，例如，Dropout, Batch normalization"
   ]
  },
  {
   "cell_type": "code",
   "execution_count": 46,
   "id": "00970752",
   "metadata": {},
   "outputs": [
    {
     "name": "stdout",
     "output_type": "stream",
     "text": [
      " 類別對應： ['men', 'women']\n",
      " 訓練筆數（原始）： 220\n",
      " 測試筆數： 80\n"
     ]
    }
   ],
   "source": [
    "from torchvision import datasets, transforms\n",
    "from torch.utils.data import DataLoader, random_split\n",
    "\n",
    "# Version A：原始資料（無增強）\n",
    "raw_transform = transforms.Compose([\n",
    "    transforms.Resize((224, 224)),\n",
    "    transforms.ToTensor(),\n",
    "    transforms.Normalize(mean=[0.485, 0.456, 0.406],\n",
    "                         std =[0.229, 0.224, 0.225])\n",
    "])\n",
    "\n",
    "# Version B：訓練用資料增強\n",
    "aug_transform = transforms.Compose([\n",
    "    transforms.Resize((224, 224)),\n",
    "    transforms.RandomHorizontalFlip(0.5),\n",
    "    transforms.RandomRotation(5),\n",
    "    transforms.ColorJitter(brightness=0.1, contrast=0.1, saturation=0.1, hue=0.05),\n",
    "    transforms.ToTensor(),\n",
    "    transforms.Normalize(mean=[0.485, 0.456, 0.406],\n",
    "                         std =[0.229, 0.224, 0.225]),\n",
    "    transforms.RandomErasing(p=0.3,\n",
    "                             scale=(0.02, 0.15),\n",
    "                             ratio=(0.3, 3.3),\n",
    "                             value=0)  # 或用 'random'\n",
    "])\n",
    "\n",
    "# 載入訓練／測試 Dataset\n",
    "raw_train_full = datasets.ImageFolder(root=\"./data/train\", transform=raw_transform)\n",
    "raw_test     = datasets.ImageFolder(root=\"./data/test\",  transform=raw_transform)\n",
    "\n",
    "aug_train_full = datasets.ImageFolder(root=\"./data/train\", transform=aug_transform)\n",
    "#raw_transform 以評估增強後模型真實表現\n",
    "aug_val_full  = datasets.ImageFolder(root=\"./data/train\", transform=raw_transform)\n",
    "aug_test      = datasets.ImageFolder(root=\"./data/test\",  transform=raw_transform)\n",
    "\n",
    "print(\" 類別對應：\", raw_train_full.classes)\n",
    "print(\" 訓練筆數（原始）：\", len(raw_train_full))\n",
    "print(\" 測試筆數：\", len(raw_test))\n",
    "\n",
    "# 切分訓練 / 驗證集（8:2）\n",
    "train_ratio = 0.8\n",
    "raw_train_size = int(len(raw_train_full) * train_ratio)\n",
    "raw_val_size   = len(raw_train_full) - raw_train_size\n",
    "raw_train, raw_val = random_split(raw_train_full, [raw_train_size, raw_val_size])\n",
    "\n",
    "aug_train_size = int(len(aug_train_full) * train_ratio)\n",
    "aug_val_size   = len(aug_train_full) - aug_train_size\n",
    "aug_train, _   = random_split(aug_train_full, [aug_train_size, len(aug_train_full)-aug_train_size])\n",
    "_, aug_val     = random_split(aug_val_full, [aug_train_size, len(aug_val_full)-aug_train_size])\n",
    "\n",
    "# DataLoader\n",
    "batch_size = 64\n",
    "raw_train_loader = DataLoader(raw_train, batch_size=batch_size, shuffle=True)\n",
    "raw_val_loader   = DataLoader(raw_val,   batch_size=batch_size, shuffle=False)\n",
    "raw_test_loader  = DataLoader(raw_test,  batch_size=batch_size, shuffle=False)\n",
    "\n",
    "aug_train_loader = DataLoader(aug_train, batch_size=batch_size, shuffle=True)\n",
    "aug_val_loader   = DataLoader(aug_val,   batch_size=batch_size, shuffle=False)\n",
    "aug_test_loader  = DataLoader(aug_test,  batch_size=batch_size, shuffle=False)\n"
   ]
  },
  {
   "cell_type": "code",
   "execution_count": 47,
   "id": "175ad78c",
   "metadata": {},
   "outputs": [],
   "source": [
    "import torch\n",
    "import torch.nn as nn\n",
    "import copy\n",
    "\n",
    "def train_model(model, train_loader, val_loader, num_epochs, device, label=\"\",):\n",
    "    criterion = nn.CrossEntropyLoss()\n",
    "    optimizer = torch.optim.AdamW(model.parameters(), lr=2e-4, weight_decay=1e-3) # lr = 2e-3 收斂太快\n",
    "    scheduler = torch.optim.lr_scheduler.StepLR(optimizer, step_size=5, gamma=0.5)   \n",
    "    \n",
    "    best_acc = 0.0\n",
    "    best_model_state_dict = copy.deepcopy(model.state_dict())\n",
    "\n",
    "    print(f\" 開始訓練：{label}\")\n",
    "    for epoch in range(num_epochs):\n",
    "        model.train()\n",
    "        running_loss = 0.0\n",
    "        correct, total = 0, 0\n",
    "\n",
    "        # 訓練階段\n",
    "        for images, labels in train_loader:\n",
    "            images, labels = images.to(device), labels.to(device)\n",
    "            optimizer.zero_grad()\n",
    "            outputs = model(images)\n",
    "            loss = criterion(outputs, labels)\n",
    "            loss.backward()\n",
    "            optimizer.step()\n",
    "            scheduler.step() \n",
    "            running_loss += loss.item()\n",
    "            _, predicted = torch.max(outputs, 1)\n",
    "            correct += (predicted == labels).sum().item()\n",
    "            total += labels.size(0)\n",
    "        train_acc = 100 * correct / total\n",
    "\n",
    "        # 驗證\n",
    "        model.eval()\n",
    "        val_correct, val_total = 0, 0\n",
    "        with torch.no_grad():\n",
    "            for images, labels in val_loader:\n",
    "                images, labels = images.to(device), labels.to(device)\n",
    "                outputs = model(images)\n",
    "                _, predicted = torch.max(outputs, 1)\n",
    "                val_total += labels.size(0)\n",
    "                val_correct += (predicted == labels).sum().item()\n",
    "        val_acc = 100 * val_correct / val_total\n",
    "\n",
    "        print(f\"[{label}] Epoch {epoch+1}/{num_epochs}, Loss: {running_loss:.4f}, Train Acc: {train_acc:.2f}%, Val Acc: {val_acc:.2f}%\")\n",
    "        if val_acc > best_acc:\n",
    "            best_acc = val_acc\n",
    "            best_model_state_dict = copy.deepcopy(model.state_dict())\n",
    "\n",
    "    # 訓練結束後加載最佳模型\n",
    "    model.load_state_dict(best_model_state_dict)\n",
    "    print(f\"[{label}] 最佳驗證準確率：{best_acc:.2f}%\")\n",
    "    return model\n",
    "\n",
    "device = torch.device(\"cuda\" if torch.cuda.is_available() else \"cpu\")"
   ]
  },
  {
   "cell_type": "code",
   "execution_count": 48,
   "id": "6bb5c854",
   "metadata": {},
   "outputs": [],
   "source": [
    "def evaluate_model(model, test_loader, device, label=\"\"):\n",
    "    model.eval()\n",
    "    correct = 0\n",
    "    total = 0\n",
    "\n",
    "    with torch.no_grad():\n",
    "        for images, labels in test_loader:\n",
    "            images, labels = images.to(device), labels.to(device)\n",
    "            outputs = model(images)\n",
    "            _, predicted = torch.max(outputs, 1)\n",
    "            total += labels.size(0)\n",
    "            correct += (predicted == labels).sum().item()\n",
    "\n",
    "    acc = 100 * correct / total\n",
    "    print(f\"[{label}]  測試集準確率：{acc:.2f}%\")\n",
    "    return acc"
   ]
  },
  {
   "cell_type": "markdown",
   "id": "42c442bf",
   "metadata": {},
   "source": [
    "Dropout"
   ]
  },
  {
   "cell_type": "code",
   "execution_count": 49,
   "id": "38ed2c36",
   "metadata": {},
   "outputs": [],
   "source": [
    "import torchvision.models as models\n",
    "import torch.nn as nn\n",
    "\n",
    "class GenderCNN_Dropout(nn.Module):\n",
    "    def __init__(self):\n",
    "        super().__init__()\n",
    "        # 載入預訓練 EfficientNet‑B0\n",
    "        self.backbone = models.efficientnet_b0(pretrained=True)\n",
    "        for param in self.backbone.parameters():\n",
    "            param.requires_grad = False\n",
    "        for param in self.backbone.features[-5:].parameters():\n",
    "            param.requires_grad = True\n",
    "\n",
    "        # 替換分類頭，插入 Dropout\n",
    "        self.backbone.classifier[1] = nn.Sequential(\n",
    "            nn.Linear(1280, 512),\n",
    "            nn.BatchNorm1d(512),\n",
    "            nn.ReLU(inplace=True),\n",
    "            nn.Dropout(p=0.5),\n",
    "\n",
    "            nn.Linear(512, 256),\n",
    "            nn.BatchNorm1d(256),\n",
    "            nn.ReLU(inplace=True),\n",
    "            nn.Dropout(p=0.3),\n",
    "\n",
    "            nn.Linear(256, 2)\n",
    "        )\n",
    "\n",
    "    def forward(self, x):\n",
    "        return self.backbone(x)\n"
   ]
  },
  {
   "cell_type": "code",
   "execution_count": 50,
   "id": "c1c84a61",
   "metadata": {},
   "outputs": [
    {
     "name": "stdout",
     "output_type": "stream",
     "text": [
      "\n",
      "============================== Training Raw Model ==============================\n",
      " 開始訓練：raw\n",
      "[raw] Epoch 1/20, Loss: 2.1641, Train Acc: 54.55%, Val Acc: 56.82%\n",
      "[raw] Epoch 2/20, Loss: 1.6574, Train Acc: 69.89%, Val Acc: 65.91%\n",
      "[raw] Epoch 3/20, Loss: 1.4730, Train Acc: 81.25%, Val Acc: 70.45%\n",
      "[raw] Epoch 4/20, Loss: 1.2656, Train Acc: 86.36%, Val Acc: 75.00%\n",
      "[raw] Epoch 5/20, Loss: 1.2484, Train Acc: 88.64%, Val Acc: 79.55%\n",
      "[raw] Epoch 6/20, Loss: 1.1958, Train Acc: 87.50%, Val Acc: 79.55%\n",
      "[raw] Epoch 7/20, Loss: 1.1234, Train Acc: 92.05%, Val Acc: 77.27%\n",
      "[raw] Epoch 8/20, Loss: 1.1190, Train Acc: 90.34%, Val Acc: 79.55%\n",
      "[raw] Epoch 9/20, Loss: 1.1328, Train Acc: 86.93%, Val Acc: 81.82%\n",
      "[raw] Epoch 10/20, Loss: 1.0421, Train Acc: 93.18%, Val Acc: 84.09%\n",
      "[raw] Epoch 11/20, Loss: 1.1211, Train Acc: 92.05%, Val Acc: 86.36%\n",
      "[raw] Epoch 12/20, Loss: 1.0301, Train Acc: 92.61%, Val Acc: 88.64%\n",
      "[raw] Epoch 13/20, Loss: 1.1072, Train Acc: 93.18%, Val Acc: 90.91%\n",
      "[raw] Epoch 14/20, Loss: 0.9711, Train Acc: 91.48%, Val Acc: 86.36%\n",
      "[raw] Epoch 15/20, Loss: 1.0441, Train Acc: 92.61%, Val Acc: 88.64%\n",
      "[raw] Epoch 16/20, Loss: 0.9646, Train Acc: 96.02%, Val Acc: 86.36%\n",
      "[raw] Epoch 17/20, Loss: 1.0395, Train Acc: 92.61%, Val Acc: 86.36%\n",
      "[raw] Epoch 18/20, Loss: 0.9872, Train Acc: 93.18%, Val Acc: 86.36%\n",
      "[raw] Epoch 19/20, Loss: 1.0031, Train Acc: 93.18%, Val Acc: 86.36%\n",
      "[raw] Epoch 20/20, Loss: 1.0309, Train Acc: 92.61%, Val Acc: 86.36%\n",
      "[raw] 最佳驗證準確率：90.91%\n",
      "\n",
      "============================== Training Augmented Model ==============================\n",
      " 開始訓練：augmented\n",
      "[augmented] Epoch 1/20, Loss: 2.2184, Train Acc: 50.00%, Val Acc: 63.64%\n",
      "[augmented] Epoch 2/20, Loss: 1.9470, Train Acc: 60.80%, Val Acc: 70.45%\n",
      "[augmented] Epoch 3/20, Loss: 1.6006, Train Acc: 75.57%, Val Acc: 79.55%\n",
      "[augmented] Epoch 4/20, Loss: 1.5251, Train Acc: 76.70%, Val Acc: 88.64%\n",
      "[augmented] Epoch 5/20, Loss: 1.4937, Train Acc: 77.27%, Val Acc: 90.91%\n",
      "[augmented] Epoch 6/20, Loss: 1.5072, Train Acc: 79.55%, Val Acc: 90.91%\n",
      "[augmented] Epoch 7/20, Loss: 1.4258, Train Acc: 81.25%, Val Acc: 90.91%\n",
      "[augmented] Epoch 8/20, Loss: 1.3732, Train Acc: 85.80%, Val Acc: 90.91%\n",
      "[augmented] Epoch 9/20, Loss: 1.4260, Train Acc: 80.68%, Val Acc: 93.18%\n",
      "[augmented] Epoch 10/20, Loss: 1.4069, Train Acc: 81.25%, Val Acc: 95.45%\n",
      "[augmented] Epoch 11/20, Loss: 1.4313, Train Acc: 84.66%, Val Acc: 95.45%\n",
      "[augmented] Epoch 12/20, Loss: 1.3064, Train Acc: 86.36%, Val Acc: 95.45%\n",
      "[augmented] Epoch 13/20, Loss: 1.3758, Train Acc: 82.39%, Val Acc: 95.45%\n",
      "[augmented] Epoch 14/20, Loss: 1.3294, Train Acc: 85.80%, Val Acc: 95.45%\n",
      "[augmented] Epoch 15/20, Loss: 1.3933, Train Acc: 85.23%, Val Acc: 95.45%\n",
      "[augmented] Epoch 16/20, Loss: 1.4413, Train Acc: 77.84%, Val Acc: 95.45%\n",
      "[augmented] Epoch 17/20, Loss: 1.3208, Train Acc: 86.93%, Val Acc: 95.45%\n",
      "[augmented] Epoch 18/20, Loss: 1.3327, Train Acc: 87.50%, Val Acc: 95.45%\n",
      "[augmented] Epoch 19/20, Loss: 1.3422, Train Acc: 84.66%, Val Acc: 95.45%\n",
      "[augmented] Epoch 20/20, Loss: 1.4505, Train Acc: 81.25%, Val Acc: 95.45%\n",
      "[augmented] 最佳驗證準確率：95.45%\n"
     ]
    }
   ],
   "source": [
    "# 訓練參數\n",
    "num_epochs = 20\n",
    "model_raw = GenderCNN_Dropout().to(device)\n",
    "print(\"\\n\" + \"=\"*30 + \" Training Raw Model \" + \"=\"*30)\n",
    "model_raw = train_model(model_raw, raw_train_loader, raw_val_loader, num_epochs, device, label=\"raw\")\n",
    "\n",
    "model_aug = GenderCNN_Dropout().to(device)\n",
    "print(\"\\n\" + \"=\"*30 + \" Training Augmented Model \" + \"=\"*30)\n",
    "model_aug = train_model(model_aug, aug_train_loader, aug_val_loader, num_epochs, device, label=\"augmented\")\n"
   ]
  },
  {
   "cell_type": "code",
   "execution_count": 51,
   "id": "d0d6297b",
   "metadata": {},
   "outputs": [
    {
     "name": "stdout",
     "output_type": "stream",
     "text": [
      "[raw]  測試集準確率：76.25%\n",
      "[augmented]  測試集準確率：81.25%\n"
     ]
    },
    {
     "data": {
      "text/plain": [
       "81.25"
      ]
     },
     "execution_count": 51,
     "metadata": {},
     "output_type": "execute_result"
    }
   ],
   "source": [
    "evaluate_model(model_raw, raw_test_loader, device, label=\"raw\")\n",
    "evaluate_model(model_aug, aug_test_loader, device, label=\"augmented\")"
   ]
  },
  {
   "cell_type": "markdown",
   "id": "9a0f5ad0",
   "metadata": {},
   "source": [
    "Batch normalization"
   ]
  },
  {
   "cell_type": "code",
   "execution_count": 52,
   "id": "b8980ddb",
   "metadata": {},
   "outputs": [],
   "source": [
    "import torchvision.models as models\n",
    "import torch.nn as nn\n",
    "\n",
    "class GenderCNN_BN(nn.Module):\n",
    "    def __init__(self):\n",
    "        super().__init__()\n",
    "    \n",
    "        self.backbone = models.efficientnet_b0(pretrained=True)\n",
    "    \n",
    "        for param in self.backbone.parameters():\n",
    "            param.requires_grad = False\n",
    "        for param in self.backbone.features[-5:].parameters():\n",
    "            param.requires_grad = True\n",
    "\n",
    "        # 替換分類頭：1280 → 512 → 256 → 2\n",
    "        # 在每層全連接之後都加 BN，再 ReLU\n",
    "        self.backbone.classifier[1] = nn.Sequential(\n",
    "            nn.Linear(1280, 512),\n",
    "            nn.BatchNorm1d(512),\n",
    "            nn.ReLU(inplace=True),\n",
    "            \n",
    "            nn.Linear(512, 256),\n",
    "            nn.BatchNorm1d(256),\n",
    "            nn.ReLU(inplace=True),\n",
    "            \n",
    "            nn.Linear(256, 2)\n",
    "        )\n",
    "\n",
    "    def forward(self, x):\n",
    "        return self.backbone(x)\n"
   ]
  },
  {
   "cell_type": "code",
   "execution_count": 53,
   "id": "2a1fd49e",
   "metadata": {},
   "outputs": [
    {
     "name": "stdout",
     "output_type": "stream",
     "text": [
      "\n",
      "============================== Training Raw Model ==============================\n",
      " 開始訓練：raw\n",
      "[raw] Epoch 1/20, Loss: 2.0960, Train Acc: 53.98%, Val Acc: 56.82%\n",
      "[raw] Epoch 2/20, Loss: 1.7679, Train Acc: 69.89%, Val Acc: 61.36%\n",
      "[raw] Epoch 3/20, Loss: 1.5706, Train Acc: 77.84%, Val Acc: 68.18%\n",
      "[raw] Epoch 4/20, Loss: 1.3982, Train Acc: 81.25%, Val Acc: 77.27%\n",
      "[raw] Epoch 5/20, Loss: 1.3132, Train Acc: 83.52%, Val Acc: 86.36%\n",
      "[raw] Epoch 6/20, Loss: 1.2848, Train Acc: 88.07%, Val Acc: 88.64%\n",
      "[raw] Epoch 7/20, Loss: 1.1929, Train Acc: 89.20%, Val Acc: 88.64%\n",
      "[raw] Epoch 8/20, Loss: 1.1650, Train Acc: 89.20%, Val Acc: 84.09%\n",
      "[raw] Epoch 9/20, Loss: 1.0692, Train Acc: 90.91%, Val Acc: 84.09%\n",
      "[raw] Epoch 10/20, Loss: 1.1541, Train Acc: 89.77%, Val Acc: 86.36%\n",
      "[raw] Epoch 11/20, Loss: 1.1396, Train Acc: 89.20%, Val Acc: 88.64%\n",
      "[raw] Epoch 12/20, Loss: 1.0564, Train Acc: 94.89%, Val Acc: 86.36%\n",
      "[raw] Epoch 13/20, Loss: 1.1887, Train Acc: 87.50%, Val Acc: 86.36%\n",
      "[raw] Epoch 14/20, Loss: 1.1437, Train Acc: 91.48%, Val Acc: 88.64%\n",
      "[raw] Epoch 15/20, Loss: 1.1004, Train Acc: 88.64%, Val Acc: 88.64%\n",
      "[raw] Epoch 16/20, Loss: 1.1458, Train Acc: 92.61%, Val Acc: 88.64%\n",
      "[raw] Epoch 17/20, Loss: 1.0793, Train Acc: 93.18%, Val Acc: 88.64%\n",
      "[raw] Epoch 18/20, Loss: 1.1937, Train Acc: 90.34%, Val Acc: 88.64%\n",
      "[raw] Epoch 19/20, Loss: 1.0797, Train Acc: 90.34%, Val Acc: 86.36%\n",
      "[raw] Epoch 20/20, Loss: 1.1694, Train Acc: 87.50%, Val Acc: 86.36%\n",
      "[raw] 最佳驗證準確率：88.64%\n",
      "\n",
      "============================== Training Augmented Model ==============================\n",
      " 開始訓練：augmented\n",
      "[augmented] Epoch 1/20, Loss: 2.2835, Train Acc: 50.57%, Val Acc: 45.45%\n",
      "[augmented] Epoch 2/20, Loss: 1.9343, Train Acc: 64.20%, Val Acc: 61.36%\n",
      "[augmented] Epoch 3/20, Loss: 1.6817, Train Acc: 73.30%, Val Acc: 65.91%\n",
      "[augmented] Epoch 4/20, Loss: 1.6221, Train Acc: 75.57%, Val Acc: 72.73%\n",
      "[augmented] Epoch 5/20, Loss: 1.5764, Train Acc: 77.27%, Val Acc: 75.00%\n",
      "[augmented] Epoch 6/20, Loss: 1.4971, Train Acc: 80.11%, Val Acc: 84.09%\n",
      "[augmented] Epoch 7/20, Loss: 1.5418, Train Acc: 78.98%, Val Acc: 86.36%\n",
      "[augmented] Epoch 8/20, Loss: 1.4070, Train Acc: 82.95%, Val Acc: 86.36%\n",
      "[augmented] Epoch 9/20, Loss: 1.3219, Train Acc: 85.80%, Val Acc: 86.36%\n",
      "[augmented] Epoch 10/20, Loss: 1.4160, Train Acc: 84.66%, Val Acc: 86.36%\n",
      "[augmented] Epoch 11/20, Loss: 1.5733, Train Acc: 80.11%, Val Acc: 86.36%\n",
      "[augmented] Epoch 12/20, Loss: 1.3064, Train Acc: 84.66%, Val Acc: 86.36%\n",
      "[augmented] Epoch 13/20, Loss: 1.3414, Train Acc: 83.52%, Val Acc: 86.36%\n",
      "[augmented] Epoch 14/20, Loss: 1.4047, Train Acc: 84.09%, Val Acc: 86.36%\n",
      "[augmented] Epoch 15/20, Loss: 1.3900, Train Acc: 82.95%, Val Acc: 88.64%\n",
      "[augmented] Epoch 16/20, Loss: 1.4165, Train Acc: 82.39%, Val Acc: 88.64%\n",
      "[augmented] Epoch 17/20, Loss: 1.3796, Train Acc: 84.66%, Val Acc: 88.64%\n",
      "[augmented] Epoch 18/20, Loss: 1.3702, Train Acc: 84.09%, Val Acc: 88.64%\n",
      "[augmented] Epoch 19/20, Loss: 1.3475, Train Acc: 84.09%, Val Acc: 88.64%\n",
      "[augmented] Epoch 20/20, Loss: 1.4067, Train Acc: 85.80%, Val Acc: 88.64%\n",
      "[augmented] 最佳驗證準確率：88.64%\n"
     ]
    }
   ],
   "source": [
    "# 訓練參數\n",
    "num_epochs = 20  \n",
    "model_raw = GenderCNN_Dropout().to(device)\n",
    "print(\"\\n\" + \"=\"*30 + \" Training Raw Model \" + \"=\"*30)\n",
    "model_raw = train_model(model_raw, raw_train_loader, raw_val_loader, num_epochs, device, label=\"raw\")\n",
    "\n",
    "model_aug = GenderCNN_Dropout().to(device)\n",
    "print(\"\\n\" + \"=\"*30 + \" Training Augmented Model \" + \"=\"*30)\n",
    "\n",
    "\n",
    "model_aug = train_model(model_aug, aug_train_loader, aug_val_loader, num_epochs, device, label=\"augmented\")\n"
   ]
  },
  {
   "cell_type": "code",
   "execution_count": 54,
   "id": "cdb1ea1e",
   "metadata": {},
   "outputs": [
    {
     "name": "stdout",
     "output_type": "stream",
     "text": [
      "[raw]  測試集準確率：68.75%\n",
      "[augmented]  測試集準確率：82.50%\n"
     ]
    },
    {
     "data": {
      "text/plain": [
       "82.5"
      ]
     },
     "execution_count": 54,
     "metadata": {},
     "output_type": "execute_result"
    }
   ],
   "source": [
    "evaluate_model(model_raw, raw_test_loader, device, label=\"raw\")\n",
    "evaluate_model(model_aug, aug_test_loader, device, label=\"augmented\")"
   ]
  }
 ],
 "metadata": {
  "kernelspec": {
   "display_name": "ML_env",
   "language": "python",
   "name": "python3"
  },
  "language_info": {
   "codemirror_mode": {
    "name": "ipython",
    "version": 3
   },
   "file_extension": ".py",
   "mimetype": "text/x-python",
   "name": "python",
   "nbconvert_exporter": "python",
   "pygments_lexer": "ipython3",
   "version": "3.9.21"
  }
 },
 "nbformat": 4,
 "nbformat_minor": 5
}
