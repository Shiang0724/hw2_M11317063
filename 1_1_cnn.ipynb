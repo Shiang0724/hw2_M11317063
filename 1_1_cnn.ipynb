{
 "cells": [
  {
   "cell_type": "markdown",
   "id": "b790ae27",
   "metadata": {},
   "source": [
    "使用資料增強(data augmentation)技術，觀察可否提升模型預測績效？"
   ]
  },
  {
   "cell_type": "markdown",
   "id": "e79d5046",
   "metadata": {},
   "source": [
    "載入資料集、預處理"
   ]
  },
  {
   "cell_type": "code",
   "execution_count": 97,
   "id": "644295e2",
   "metadata": {},
   "outputs": [
    {
     "name": "stdout",
     "output_type": "stream",
     "text": [
      " 類別對應： ['men', 'women']\n",
      " 訓練筆數： 220\n",
      " 測試筆數： 80\n"
     ]
    }
   ],
   "source": [
    "from torchvision import datasets, transforms\n",
    "from torch.utils.data import DataLoader, random_split\n",
    "\n",
    "# 原始資料（無增強）\n",
    "raw_transform = transforms.Compose([\n",
    "    transforms.Resize((224, 224)),\n",
    "    transforms.ToTensor(),\n",
    "    transforms.Normalize(mean=[0.485, 0.456, 0.406], std=[0.229, 0.224, 0.225])\n",
    "])\n",
    "\n",
    "# 資料增強\n",
    "# 資料增強 pipeline 修改\n",
    "aug_transform = transforms.Compose([\n",
    "    transforms.Resize((224, 224)),\n",
    "    transforms.RandomHorizontalFlip(0.5),\n",
    "    transforms.RandomRotation(5),\n",
    "    transforms.ColorJitter(brightness=0.1, contrast=0.1, saturation=0.1, hue=0.05),\n",
    "    transforms.ToTensor(),   \n",
    "    transforms.Normalize(\n",
    "        mean=[0.485, 0.456, 0.406],std =[0.229, 0.224, 0.225]),\n",
    "    transforms.RandomErasing(p=0.3, scale=(0.02, 0.15), ratio=(0.3, 3.3), value=0        # 或用 'random' 產生隨機值\n",
    "    ),\n",
    "])\n",
    "\n",
    "\n",
    "# 載入原始與增強的資料集（訓練 + 測試）\n",
    "raw_train_dataset_full = datasets.ImageFolder(root=\"./data/train\", transform=raw_transform)\n",
    "raw_test_dataset = datasets.ImageFolder(root=\"./data/test\", transform=raw_transform)\n",
    "aug_train_dataset_full = datasets.ImageFolder(root=\"./data/train\", transform=aug_transform)\n",
    "aug_test_dataset = datasets.ImageFolder(root=\"./data/test\", transform=raw_transform)\n",
    "\n",
    "# 顯示資料資訊\n",
    "print(\" 類別對應：\", raw_train_dataset_full.classes)\n",
    "print(\" 訓練筆數：\", len(raw_train_dataset_full))\n",
    "print(\" 測試筆數：\", len(raw_test_dataset))\n",
    "\n",
    "# 切分訓練 / 驗證集（7:3）\n",
    "train_ratio = 0.7\n",
    "raw_train_size = int(len(raw_train_dataset_full) * train_ratio)\n",
    "raw_val_size = len(raw_train_dataset_full) - raw_train_size\n",
    "raw_train_dataset, raw_val_dataset = random_split(raw_train_dataset_full, [raw_train_size, raw_val_size])\n",
    "\n",
    "aug_train_size = int(len(aug_train_dataset_full) * train_ratio)\n",
    "aug_val_size = len(aug_train_dataset_full) - aug_train_size\n",
    "aug_train_dataset, aug_val_dataset = random_split(aug_train_dataset_full, [aug_train_size, aug_val_size])\n",
    "\n",
    "# DataLoader\n",
    "raw_train_loader = DataLoader(raw_train_dataset, batch_size=64, shuffle=True)\n",
    "raw_val_loader = DataLoader(raw_val_dataset, batch_size=64, shuffle=False)\n",
    "raw_test_loader = DataLoader(raw_test_dataset, batch_size=64, shuffle=False)\n",
    "\n",
    "aug_train_loader = DataLoader(aug_train_dataset, batch_size=64, shuffle=True)\n",
    "aug_val_loader = DataLoader(aug_val_dataset, batch_size=64, shuffle=False)\n",
    "aug_test_loader = DataLoader(aug_test_dataset, batch_size=64, shuffle=False)\n"
   ]
  },
  {
   "cell_type": "markdown",
   "id": "2e66474e",
   "metadata": {},
   "source": [
    "建立CNN model"
   ]
  },
  {
   "cell_type": "code",
   "execution_count": 98,
   "id": "0b240b6a",
   "metadata": {},
   "outputs": [],
   "source": [
    "import torchvision.models as models\n",
    "import torch.nn as nn\n",
    "\n",
    "class GenderCNN(nn.Module):\n",
    "    def __init__(self):\n",
    "        super().__init__()\n",
    "        # 使用預訓練的 EfficientNet\n",
    "        self.backbone = models.efficientnet_b0(pretrained=True)\n",
    "        \n",
    "        \n",
    "        for param in self.backbone.parameters():\n",
    "            param.requires_grad = False\n",
    "        for param in self.backbone.features[-5:].parameters():\n",
    "            param.requires_grad = True\n",
    "\n",
    "        # 替換分類頭\n",
    "        self.backbone.classifier[1] = nn.Sequential(\n",
    "            nn.Linear(1280, 256),\n",
    "            nn.BatchNorm1d(256),\n",
    "            nn.Dropout(0.3),\n",
    "            nn.ReLU(),\n",
    "            nn.Linear(256, 2)\n",
    "        )\n",
    "    def forward(self, x):\n",
    "        return self.backbone(x)"
   ]
  },
  {
   "cell_type": "markdown",
   "id": "838d5543",
   "metadata": {},
   "source": [
    "training"
   ]
  },
  {
   "cell_type": "code",
   "execution_count": 99,
   "id": "88e7a1b3",
   "metadata": {},
   "outputs": [
    {
     "name": "stdout",
     "output_type": "stream",
     "text": [
      "\n",
      "============================== Training Raw Model ==============================\n",
      " 開始訓練：raw\n"
     ]
    },
    {
     "name": "stderr",
     "output_type": "stream",
     "text": [
      "c:\\Users\\eb201\\miniconda3\\envs\\ML_env\\lib\\site-packages\\torchvision\\models\\_utils.py:208: UserWarning: The parameter 'pretrained' is deprecated since 0.13 and may be removed in the future, please use 'weights' instead.\n",
      "  warnings.warn(\n",
      "c:\\Users\\eb201\\miniconda3\\envs\\ML_env\\lib\\site-packages\\torchvision\\models\\_utils.py:223: UserWarning: Arguments other than a weight enum or `None` for 'weights' are deprecated since 0.13 and may be removed in the future. The current behavior is equivalent to passing `weights=EfficientNet_B0_Weights.IMAGENET1K_V1`. You can also use `weights=EfficientNet_B0_Weights.DEFAULT` to get the most up-to-date weights.\n",
      "  warnings.warn(msg)\n"
     ]
    },
    {
     "name": "stdout",
     "output_type": "stream",
     "text": [
      "[raw] Epoch 1/20, Loss: 2.1297, Train Acc: 50.65%, Val Acc: 68.18%\n",
      "[raw] Epoch 2/20, Loss: 1.1804, Train Acc: 90.26%, Val Acc: 75.76%\n",
      "[raw] Epoch 3/20, Loss: 0.9409, Train Acc: 94.81%, Val Acc: 80.30%\n",
      "[raw] Epoch 4/20, Loss: 0.7177, Train Acc: 98.05%, Val Acc: 77.27%\n",
      "[raw] Epoch 5/20, Loss: 0.6789, Train Acc: 97.40%, Val Acc: 78.79%\n",
      "[raw] Epoch 6/20, Loss: 0.5734, Train Acc: 98.70%, Val Acc: 75.76%\n",
      "[raw] Epoch 7/20, Loss: 0.6465, Train Acc: 98.70%, Val Acc: 77.27%\n",
      "[raw] Epoch 8/20, Loss: 0.5395, Train Acc: 97.40%, Val Acc: 75.76%\n",
      "[raw] Epoch 9/20, Loss: 0.5433, Train Acc: 99.35%, Val Acc: 77.27%\n",
      "[raw] Epoch 10/20, Loss: 0.5571, Train Acc: 98.70%, Val Acc: 78.79%\n",
      "[raw] Epoch 11/20, Loss: 0.4605, Train Acc: 98.70%, Val Acc: 80.30%\n",
      "[raw] Epoch 12/20, Loss: 0.5110, Train Acc: 98.70%, Val Acc: 81.82%\n",
      "[raw] Epoch 13/20, Loss: 0.5331, Train Acc: 98.70%, Val Acc: 80.30%\n",
      "[raw] Epoch 14/20, Loss: 0.4520, Train Acc: 100.00%, Val Acc: 78.79%\n",
      "[raw] Epoch 15/20, Loss: 0.4709, Train Acc: 99.35%, Val Acc: 78.79%\n",
      "[raw] Epoch 16/20, Loss: 0.5133, Train Acc: 97.40%, Val Acc: 81.82%\n",
      "[raw] Epoch 17/20, Loss: 0.4600, Train Acc: 100.00%, Val Acc: 78.79%\n",
      "[raw] Epoch 18/20, Loss: 0.5049, Train Acc: 98.70%, Val Acc: 80.30%\n",
      "[raw] Epoch 19/20, Loss: 0.5259, Train Acc: 98.70%, Val Acc: 81.82%\n",
      "[raw] Epoch 20/20, Loss: 0.4799, Train Acc: 98.70%, Val Acc: 80.30%\n",
      "[raw] 最佳驗證準確率：81.82%\n",
      "\n",
      "============================== Training Augmented Model ==============================\n",
      " 開始訓練：augmented\n",
      "[augmented] Epoch 1/20, Loss: 2.3017, Train Acc: 53.25%, Val Acc: 53.03%\n",
      "[augmented] Epoch 2/20, Loss: 1.6697, Train Acc: 68.83%, Val Acc: 62.12%\n",
      "[augmented] Epoch 3/20, Loss: 1.3990, Train Acc: 76.62%, Val Acc: 65.15%\n",
      "[augmented] Epoch 4/20, Loss: 1.2157, Train Acc: 84.42%, Val Acc: 71.21%\n",
      "[augmented] Epoch 5/20, Loss: 1.1096, Train Acc: 84.42%, Val Acc: 81.82%\n",
      "[augmented] Epoch 6/20, Loss: 0.9958, Train Acc: 89.61%, Val Acc: 75.76%\n",
      "[augmented] Epoch 7/20, Loss: 0.9195, Train Acc: 89.61%, Val Acc: 80.30%\n",
      "[augmented] Epoch 8/20, Loss: 1.0121, Train Acc: 90.91%, Val Acc: 77.27%\n",
      "[augmented] Epoch 9/20, Loss: 0.9361, Train Acc: 93.51%, Val Acc: 80.30%\n",
      "[augmented] Epoch 10/20, Loss: 0.9805, Train Acc: 90.91%, Val Acc: 84.85%\n",
      "[augmented] Epoch 11/20, Loss: 0.9046, Train Acc: 94.16%, Val Acc: 84.85%\n",
      "[augmented] Epoch 12/20, Loss: 1.0191, Train Acc: 90.26%, Val Acc: 78.79%\n",
      "[augmented] Epoch 13/20, Loss: 0.9428, Train Acc: 88.96%, Val Acc: 81.82%\n",
      "[augmented] Epoch 14/20, Loss: 0.9859, Train Acc: 90.91%, Val Acc: 87.88%\n",
      "[augmented] Epoch 15/20, Loss: 0.8950, Train Acc: 90.91%, Val Acc: 78.79%\n",
      "[augmented] Epoch 16/20, Loss: 1.0111, Train Acc: 89.61%, Val Acc: 75.76%\n",
      "[augmented] Epoch 17/20, Loss: 0.8421, Train Acc: 94.16%, Val Acc: 77.27%\n",
      "[augmented] Epoch 18/20, Loss: 1.0553, Train Acc: 87.01%, Val Acc: 83.33%\n",
      "[augmented] Epoch 19/20, Loss: 0.8296, Train Acc: 94.81%, Val Acc: 83.33%\n",
      "[augmented] Epoch 20/20, Loss: 0.8594, Train Acc: 92.21%, Val Acc: 80.30%\n",
      "[augmented] 最佳驗證準確率：87.88%\n"
     ]
    }
   ],
   "source": [
    "import torch\n",
    "import torch.nn as nn\n",
    "import copy\n",
    "\n",
    "def train_model(model, train_loader, val_loader, num_epochs, device, label=\"\",):\n",
    "    criterion = nn.CrossEntropyLoss()\n",
    "    optimizer = torch.optim.AdamW(model.parameters(), lr=2e-4, weight_decay=1e-2)\n",
    "    scheduler = torch.optim.lr_scheduler.StepLR(optimizer, step_size=5, gamma=0.5)  \n",
    "    \n",
    "    best_acc = 0.0\n",
    "    best_model_state_dict = copy.deepcopy(model.state_dict())\n",
    "\n",
    "    print(f\" 開始訓練：{label}\")\n",
    "    for epoch in range(num_epochs):\n",
    "        model.train()\n",
    "        running_loss = 0.0\n",
    "        correct, total = 0, 0\n",
    "\n",
    "        # 訓練階段\n",
    "        for images, labels in train_loader:\n",
    "            images, labels = images.to(device), labels.to(device)\n",
    "            optimizer.zero_grad()\n",
    "            outputs = model(images)\n",
    "            loss = criterion(outputs, labels)\n",
    "            loss.backward()\n",
    "            optimizer.step()\n",
    "            scheduler.step() \n",
    "            running_loss += loss.item()\n",
    "            _, predicted = torch.max(outputs, 1)\n",
    "            correct += (predicted == labels).sum().item()\n",
    "            total += labels.size(0)\n",
    "        train_acc = 100 * correct / total\n",
    "\n",
    "        # 驗證\n",
    "        model.eval()\n",
    "        val_correct, val_total = 0, 0\n",
    "        with torch.no_grad():\n",
    "            for images, labels in val_loader:\n",
    "                images, labels = images.to(device), labels.to(device)\n",
    "                outputs = model(images)\n",
    "                _, predicted = torch.max(outputs, 1)\n",
    "                val_total += labels.size(0)\n",
    "                val_correct += (predicted == labels).sum().item()\n",
    "        val_acc = 100 * val_correct / val_total\n",
    "\n",
    "        print(f\"[{label}] Epoch {epoch+1}/{num_epochs}, Loss: {running_loss:.4f}, Train Acc: {train_acc:.2f}%, Val Acc: {val_acc:.2f}%\")\n",
    "        if val_acc > best_acc:\n",
    "            best_acc = val_acc\n",
    "            best_model_state_dict = copy.deepcopy(model.state_dict())\n",
    "\n",
    "    # 訓練結束後加載最佳模型\n",
    "    model.load_state_dict(best_model_state_dict)\n",
    "    print(f\"[{label}] 最佳驗證準確率：{best_acc:.2f}%\")\n",
    "    return model\n",
    "\n",
    "device = torch.device(\"cuda\" if torch.cuda.is_available() else \"cpu\")\n",
    "# 訓練參數\n",
    "num_epochs = 20 \n",
    "model_raw = GenderCNN().to(device)\n",
    "print(\"\\n\" + \"=\"*30 + \" Training Raw Model \" + \"=\"*30)\n",
    "model_raw = train_model(model_raw, raw_train_loader, raw_val_loader, num_epochs, device, label=\"raw\")\n",
    "\n",
    "model_aug = GenderCNN().to(device)\n",
    "print(\"\\n\" + \"=\"*30 + \" Training Augmented Model \" + \"=\"*30)\n",
    "model_aug = train_model(model_aug, aug_train_loader, aug_val_loader, num_epochs, device, label=\"augmented\")\n"
   ]
  },
  {
   "cell_type": "code",
   "execution_count": 100,
   "id": "48be2205",
   "metadata": {},
   "outputs": [
    {
     "name": "stdout",
     "output_type": "stream",
     "text": [
      "[raw]  測試集準確率：78.75%\n",
      "[augmented]  測試集準確率：82.50%\n"
     ]
    },
    {
     "data": {
      "text/plain": [
       "82.5"
      ]
     },
     "execution_count": 100,
     "metadata": {},
     "output_type": "execute_result"
    }
   ],
   "source": [
    "def evaluate_model(model, test_loader, device, label=\"\"):\n",
    "    model.eval()\n",
    "    correct = 0\n",
    "    total = 0\n",
    "\n",
    "    with torch.no_grad():\n",
    "        for images, labels in test_loader:\n",
    "            images, labels = images.to(device), labels.to(device)\n",
    "            outputs = model(images)\n",
    "            _, predicted = torch.max(outputs, 1)\n",
    "            total += labels.size(0)\n",
    "            correct += (predicted == labels).sum().item()\n",
    "\n",
    "    acc = 100 * correct / total\n",
    "    print(f\"[{label}]  測試集準確率：{acc:.2f}%\")\n",
    "    return acc\n",
    "\n",
    "evaluate_model(model_raw, raw_test_loader, device, label=\"raw\")\n",
    "evaluate_model(model_aug, aug_test_loader, device, label=\"augmented\")"
   ]
  }
 ],
 "metadata": {
  "kernelspec": {
   "display_name": "ML_env",
   "language": "python",
   "name": "python3"
  },
  "language_info": {
   "codemirror_mode": {
    "name": "ipython",
    "version": 3
   },
   "file_extension": ".py",
   "mimetype": "text/x-python",
   "name": "python",
   "nbconvert_exporter": "python",
   "pygments_lexer": "ipython3",
   "version": "3.9.21"
  }
 },
 "nbformat": 4,
 "nbformat_minor": 5
}
